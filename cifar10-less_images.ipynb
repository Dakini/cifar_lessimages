{
 "cells": [
  {
   "cell_type": "markdown",
   "metadata": {},
   "source": [
    "## CIFAR 10"
   ]
  },
  {
   "cell_type": "code",
   "execution_count": 3,
   "metadata": {},
   "outputs": [],
   "source": [
    "%matplotlib inline\n",
    "%reload_ext autoreload\n",
    "%autoreload 2"
   ]
  },
  {
   "cell_type": "code",
   "execution_count": 4,
   "metadata": {},
   "outputs": [],
   "source": [
    "from fastai.conv_learner import *\n",
    "PATH = Path(\"data/cifar/\")\n",
    "os.makedirs(PATH,exist_ok=True)\n",
    "torch.cuda.set_device(0)"
   ]
  },
  {
   "cell_type": "code",
   "execution_count": 9,
   "metadata": {},
   "outputs": [],
   "source": [
    "classes = ('plane', 'car', 'bird', 'cat', 'deer', 'dog', 'frog', 'horse', 'ship', 'truck')\n",
    "stats = (np.array([ 0.4914 ,  0.48216,  0.44653]), np.array([ 0.24703,  0.24349,  0.26159]))\n",
    "\n",
    "num_workers = num_cpus()//2\n",
    "bs=256\n",
    "sz=32\n",
    "df = pd.read_csv(PATH/'train_full.csv')\n",
    "val_idx = get_cv_idxs(len(df))"
   ]
  },
  {
   "cell_type": "code",
   "execution_count": 10,
   "metadata": {},
   "outputs": [],
   "source": [
    "tfms = tfms_from_stats(stats, sz, aug_tfms=[RandomFlip()], pad=sz//8)\n",
    "data = ImageClassifierData.from_csv(PATH,'train', PATH/'train_full.csv',val_idxs = val_idx,  test_name='test', tfms=tfms, bs=bs)"
   ]
  },
  {
   "cell_type": "code",
   "execution_count": 11,
   "metadata": {},
   "outputs": [],
   "source": [
    "def conv_layer(ni, nf, ks=3, stride=1):\n",
    "    return nn.Sequential(\n",
    "        nn.Conv2d(ni, nf, kernel_size=ks, bias=False, stride=stride, padding=ks//2),\n",
    "        nn.BatchNorm2d(nf, momentum=0.01),\n",
    "        nn.LeakyReLU(negative_slope=0.1, inplace=True))"
   ]
  },
  {
   "cell_type": "code",
   "execution_count": 12,
   "metadata": {},
   "outputs": [],
   "source": [
    "class ResLayer(nn.Module):\n",
    "    def __init__(self, ni):\n",
    "        super().__init__()\n",
    "        self.conv1=conv_layer(ni, ni//2, ks=1)\n",
    "        self.conv2=conv_layer(ni//2, ni, ks=3)\n",
    "        \n",
    "    def forward(self, x): return x.add(self.conv2(self.conv1(x)))"
   ]
  },
  {
   "cell_type": "code",
   "execution_count": 13,
   "metadata": {},
   "outputs": [],
   "source": [
    "class Darknet(nn.Module):\n",
    "    def make_group_layer(self, ch_in, num_blocks, stride=1):\n",
    "        return [conv_layer(ch_in, ch_in*2,stride=stride)\n",
    "               ] + [(ResLayer(ch_in*2)) for i in range(num_blocks)]\n",
    "\n",
    "    def __init__(self, num_blocks, num_classes, nf=32):\n",
    "        super().__init__()\n",
    "        layers = [conv_layer(3, nf, ks=3, stride=1)]\n",
    "        for i,nb in enumerate(num_blocks):\n",
    "            layers += self.make_group_layer(nf, nb, stride=2-(i==1))\n",
    "            nf *= 2\n",
    "        layers += [nn.AdaptiveAvgPool2d(1), Flatten(), nn.Linear(nf, num_classes)]\n",
    "        self.layers = nn.Sequential(*layers)\n",
    "    \n",
    "    def forward(self, x): return self.layers(x)"
   ]
  },
  {
   "cell_type": "code",
   "execution_count": 14,
   "metadata": {},
   "outputs": [],
   "source": [
    "m = Darknet([1, 2, 4, 6, 3], num_classes=10, nf=32)\n"
   ]
  },
  {
   "cell_type": "code",
   "execution_count": 15,
   "metadata": {},
   "outputs": [
    {
     "data": {
      "application/vnd.jupyter.widget-view+json": {
       "model_id": "bf58aa232d8a41cc83ddb1ea49fe05dd",
       "version_major": 2,
       "version_minor": 0
      },
      "text/plain": [
       "HBox(children=(IntProgress(value=0, description='Epoch', max=20), HTML(value='')))"
      ]
     },
     "metadata": {},
     "output_type": "display_data"
    },
    {
     "name": "stdout",
     "output_type": "stream",
     "text": [
      "epoch      trn_loss   val_loss   accuracy                   \n",
      "    0      1.524506   2.474388   0.0992    \n",
      "    1      1.243316   2.90524    0.0995                     \n",
      "    2      1.03968    2.102872   0.3579                     \n",
      "    3      0.917148   1.593577   0.4531                      \n",
      "    4      0.824389   1.191766   0.5781                      \n",
      "    5      0.746274   1.820095   0.4044                      \n",
      "    6      0.701335   1.558274   0.4546                      \n",
      "    7      0.663048   1.429027   0.5166                      \n",
      "    8      0.640388   1.550357   0.4525                      \n",
      "    9      0.589545   1.474113   0.4623                      \n",
      "    10     0.554648   1.593462   0.4637                      \n",
      "    11     0.536154   1.369861   0.5005                      \n",
      "    12     0.509677   1.121718   0.6044                      \n",
      "    13     0.468491   1.173644   0.6029                      \n",
      "    14     0.438638   1.009462   0.668                       \n",
      "    15     0.385817   0.674634   0.77                        \n",
      "    16     0.314657   0.498413   0.8356                      \n",
      "    17     0.257284   0.414181   0.8578                      \n",
      "    18     0.218122   0.346764   0.8826                      \n",
      "    19     0.187686   0.287586   0.9016                      \n",
      "\n",
      "CPU times: user 22min 13s, sys: 9min 9s, total: 31min 23s\n",
      "Wall time: 27min 48s\n"
     ]
    },
    {
     "data": {
      "text/plain": [
       "[array([0.28759]), 0.9016]"
      ]
     },
     "execution_count": 15,
     "metadata": {},
     "output_type": "execute_result"
    }
   ],
   "source": [
    "learn = ConvLearner.from_model_data(to_gpu(m), data)\n",
    "learn.crit = nn.CrossEntropyLoss()\n",
    "learn.metrics = [accuracy]\n",
    "learn.clip = 1e-1\n",
    "%time learn.fit(1.5, 1, wds=1e-4, cycle_len=20, use_clr_beta=(12, 15, 0.95, 0.85))"
   ]
  },
  {
   "cell_type": "code",
   "execution_count": 16,
   "metadata": {
    "scrolled": true
   },
   "outputs": [
    {
     "data": {
      "application/vnd.jupyter.widget-view+json": {
       "model_id": "d174bbb9b5fc4641bc261c0427323c56",
       "version_major": 2,
       "version_minor": 0
      },
      "text/plain": [
       "HBox(children=(IntProgress(value=0, description='Epoch', max=30), HTML(value='')))"
      ]
     },
     "metadata": {},
     "output_type": "display_data"
    },
    {
     "name": "stdout",
     "output_type": "stream",
     "text": [
      "epoch      trn_loss   val_loss   accuracy                    \n",
      "    0      0.281255   0.458668   0.8495    \n",
      "    1      0.326356   0.746909   0.7394                      \n",
      "    2      0.375776   0.777425   0.7492                      \n",
      "    3      0.393191   0.930965   0.6943                      \n",
      "    4      0.42376    0.919787   0.698                       \n",
      "    5      0.439042   0.775543   0.7327                      \n",
      "    6      0.451626   1.323106   0.6207                      \n",
      "    7      0.47254    0.855716   0.7257                      \n",
      "    8      0.468085   1.514426   0.5597                      \n",
      "    9      0.478741   2.049475   0.4939                      \n",
      "    10     0.464222   0.89003    0.7167                      \n",
      "    11     0.475184   1.049708   0.6676                      \n",
      "    12     0.464974   0.986994   0.694                       \n",
      "    13     0.449753   0.854673   0.7103                      \n",
      "    14     0.45223    0.919351   0.7092                      \n",
      "    15     0.42309    0.982083   0.6789                      \n",
      "    16     0.420241   0.681505   0.763                       \n",
      "    17     0.416772   0.741837   0.7556                      \n",
      "    18     0.40108    1.052695   0.6468                      \n",
      "    19     0.37813    0.782581   0.7328                      \n",
      "    20     0.365593   1.542404   0.5544                      \n",
      "    21     0.343784   0.609433   0.7897                      \n",
      "    22     0.308131   0.555734   0.8117                      \n",
      "    23     0.28324    0.687533   0.7604                      \n",
      "    24     0.235869   0.381438   0.8724                      \n",
      "    25     0.196387   0.332766   0.8889                      \n",
      "    26     0.154288   0.371259   0.8774                      \n",
      "    27     0.129386   0.270978   0.9067                      \n",
      "    28     0.097712   0.2603     0.9146                       \n",
      "    29     0.082623   0.223728   0.9284                       \n",
      "\n",
      "CPU times: user 33min 36s, sys: 13min 38s, total: 47min 15s\n",
      "Wall time: 41min 54s\n"
     ]
    },
    {
     "data": {
      "text/plain": [
       "[array([0.22373]), 0.9284]"
      ]
     },
     "execution_count": 16,
     "metadata": {},
     "output_type": "execute_result"
    }
   ],
   "source": [
    "learn = ConvLearner.from_model_data(to_gpu(m), data)\n",
    "learn.crit = nn.CrossEntropyLoss()\n",
    "learn.metrics = [accuracy]\n",
    "learn.clip = 1e-1\n",
    "%time learn.fit(1.5, 1, wds=1e-4, cycle_len=30, use_clr_beta=(12, 15, 0.95, 0.85))"
   ]
  },
  {
   "cell_type": "code",
   "execution_count": 29,
   "metadata": {},
   "outputs": [],
   "source": [
    "df2 = pd.read_csv(PATH/'train_10.csv')\n",
    "val_idx2 = get_cv_idxs(len(df2))\n",
    "df3 = pd.read_csv(PATH/'train_100.csv')\n",
    "val_idx3 = get_cv_idxs(len(df3))\n",
    "df4 = pd.read_csv(PATH/'train_1000.csv')\n",
    "val_idx4 = get_cv_idxs(len(df4))\n",
    "df5 = pd.read_csv(PATH/'train_2000.csv')\n",
    "val_idx5 = get_cv_idxs(len(df5))\n",
    "df6 = pd.read_csv(PATH/'train_3000.csv')\n",
    "val_idx6 = get_cv_idxs(len(df6))\n"
   ]
  },
  {
   "cell_type": "code",
   "execution_count": 30,
   "metadata": {},
   "outputs": [],
   "source": [
    "sz = 32\n",
    "bs = 128\n",
    "tfms = tfms_from_stats(stats, sz, aug_tfms=[RandomFlip()], pad=sz//8)\n",
    "data = ImageClassifierData.from_csv(PATH,'train', PATH/'train_full.csv',val_idxs = val_idx,  test_name='test', tfms=tfms, bs=bs)\n",
    "data2 = ImageClassifierData.from_csv(PATH,'train', PATH/'train_10.csv',val_idxs = val_idx2,  test_name='test', tfms=tfms, bs=bs)\n",
    "data3 = ImageClassifierData.from_csv(PATH,'train', PATH/'train_100.csv',val_idxs = val_idx3,  test_name='test', tfms=tfms, bs=bs)\n",
    "data4 = ImageClassifierData.from_csv(PATH,'train', PATH/'train_1000.csv',val_idxs = val_idx4,  test_name='test', tfms=tfms, bs=bs)\n",
    "data5 = ImageClassifierData.from_csv(PATH,'train', PATH/'train_2000.csv',val_idxs = val_idx5,  test_name='test', tfms=tfms, bs=bs)\n",
    "data6 = ImageClassifierData.from_csv(PATH,'train', PATH/'train_3000.csv',val_idxs = val_idx6,  test_name='test', tfms=tfms, bs=bs)"
   ]
  },
  {
   "cell_type": "code",
   "execution_count": 31,
   "metadata": {},
   "outputs": [],
   "source": [
    "learn = ConvLearner.from_model_data(to_gpu(m), data2)\n",
    "learn.crit = nn.CrossEntropyLoss()\n",
    "learn.metrics = [accuracy]\n",
    "learn.clip = 1e-1"
   ]
  },
  {
   "cell_type": "code",
   "execution_count": 32,
   "metadata": {},
   "outputs": [],
   "source": [
    "def phases_1cycle(cycle_len,lr,div,pct,max_mom,min_mom):\n",
    "    tri_cyc = (1-pct/100) * cycle_len\n",
    "    return [TrainingPhase(epochs=tri_cyc/2, opt_fn=optim.SGD, lr=(lr/div,lr), lr_decay=DecayType.LINEAR, \n",
    "                          momentum=(max_mom,min_mom), momentum_decay=DecayType.LINEAR),\n",
    "           TrainingPhase(epochs=tri_cyc/2, opt_fn=optim.SGD, lr=(lr,lr/div), lr_decay=DecayType.LINEAR, \n",
    "                          momentum=(min_mom,max_mom), momentum_decay=DecayType.LINEAR),\n",
    "           TrainingPhase(epochs=cycle_len-tri_cyc, opt_fn=optim.SGD, lr=(lr/div,lr/(100*div)), lr_decay=DecayType.LINEAR, \n",
    "                          momentum=max_mom)]"
   ]
  },
  {
   "cell_type": "code",
   "execution_count": 33,
   "metadata": {},
   "outputs": [
    {
     "data": {
      "application/vnd.jupyter.widget-view+json": {
       "model_id": "dd2a7a77ff404740bd681cd6e9836cb5",
       "version_major": 2,
       "version_minor": 0
      },
      "text/plain": [
       "HBox(children=(IntProgress(value=0, description='Epoch', max=20), HTML(value='')))"
      ]
     },
     "metadata": {},
     "output_type": "display_data"
    },
    {
     "name": "stdout",
     "output_type": "stream",
     "text": [
      "epoch      trn_loss   val_loss   accuracy                 \n",
      "    0      0.077837   0.201433   0.954545  \n",
      "    1      0.065972   0.204647   0.954545                \n",
      "    2      0.066401   0.206578   0.954545                 \n",
      "    3      0.05331    0.216111   0.954545                 \n",
      "    4      0.044311   0.296352   0.909091                 \n",
      "    5      0.03775    0.45941    0.863636                 \n",
      "    6      0.032981   0.521618   0.863636                \n",
      "    7      0.029713   0.657549   0.772727                 \n",
      "    8      0.027217   0.773334   0.772727         \n",
      "    9      0.40318    3.415553   0.390756                 \n",
      "    10     0.456303   7.958943   0.231092                \n",
      "    11     0.461087   3.300434   0.5                     \n",
      "    12     0.436064   4.782289   0.403361                \n",
      "    13     0.40541    2.283725   0.52521                 \n",
      "    14     0.377065   3.656712   0.457983                \n",
      "    15     0.343089   1.848455   0.609244                \n",
      "    16     0.300592   1.774774   0.617647                \n",
      "    17     0.28056    1.712295   0.62605                 \n",
      "    18     0.215783   0.313184   0.8984                      \n",
      "    19     0.149854   0.252861   0.9164                      \n",
      "\n",
      "CPU times: user 2min 35s, sys: 1min 1s, total: 3min 36s\n",
      "Wall time: 3min 14s\n"
     ]
    },
    {
     "data": {
      "text/plain": [
       "[array([0.25286]), 0.9164]"
      ]
     },
     "execution_count": 33,
     "metadata": {},
     "output_type": "execute_result"
    }
   ],
   "source": [
    "\n",
    "%time learn.fit_opt_sched(phases_1cycle(20, 1.5, 12, 15, 0.95, 0.85), data_list = [data2,data3,data])"
   ]
  },
  {
   "cell_type": "code",
   "execution_count": 34,
   "metadata": {},
   "outputs": [
    {
     "data": {
      "application/vnd.jupyter.widget-view+json": {
       "model_id": "0bfff3454d5b4f95b2bf010ba1121f50",
       "version_major": 2,
       "version_minor": 0
      },
      "text/plain": [
       "HBox(children=(IntProgress(value=0, description='Epoch', max=20), HTML(value='')))"
      ]
     },
     "metadata": {},
     "output_type": "display_data"
    },
    {
     "name": "stdout",
     "output_type": "stream",
     "text": [
      "epoch      trn_loss   val_loss   accuracy                 \n",
      "    0      0.020608   0.089935   0.954545  \n",
      "    1      0.020659   0.084502   0.954545                 \n",
      "    2      0.019161   0.078669   1.0                      \n",
      "    3      0.016231   0.08818    1.0                      \n",
      "    4      0.013758   0.138457   0.909091                 \n",
      "    5      0.011888   0.274588   0.909091                 \n",
      "    6      0.01036    0.536643   0.818182                 \n",
      "    7      0.009293   0.97149    0.772727                  \n",
      "    8      0.008409   1.773561   0.681818          \n",
      "    9      0.268992   4.241541   0.352941                 \n",
      "    10     0.306918   5.961612   0.289916                \n",
      "    11     0.310805   3.656671   0.365546                \n",
      "    12     0.30296    2.33097    0.491597                \n",
      "    13     0.285912   2.368432   0.504202                \n",
      "    14     0.267028   6.106249   0.252101                \n",
      "    15     0.244499   2.540092   0.5                     \n",
      "    16     0.214331   2.358669   0.554622                \n",
      "    17     0.201031   2.014258   0.617647                \n",
      "    18     0.338096   0.450736   0.857381                  \n",
      "    19     0.255928   0.217323   0.924103                  \n",
      "\n",
      "CPU times: user 51.9 s, sys: 19.9 s, total: 1min 11s\n",
      "Wall time: 1min 5s\n"
     ]
    },
    {
     "data": {
      "text/plain": [
       "[array([0.21732]), 0.9241034195659755]"
      ]
     },
     "execution_count": 34,
     "metadata": {},
     "output_type": "execute_result"
    }
   ],
   "source": [
    "learn2 = ConvLearner.from_model_data(to_gpu(m), data2)\n",
    "learn2.crit = nn.CrossEntropyLoss()\n",
    "learn2.metrics = [accuracy]\n",
    "learn2.clip = 1e-1\n",
    "%time learn2.fit_opt_sched(phases_1cycle(20, 1.5, 12, 15, 0.95, 0.85), data_list = [data2,data3,data4,data])"
   ]
  },
  {
   "cell_type": "code",
   "execution_count": 35,
   "metadata": {},
   "outputs": [
    {
     "data": {
      "application/vnd.jupyter.widget-view+json": {
       "model_id": "e72632d4a7ac41fcad3b8103c6efc7cb",
       "version_major": 2,
       "version_minor": 0
      },
      "text/plain": [
       "HBox(children=(IntProgress(value=0, description='Epoch', max=20), HTML(value='')))"
      ]
     },
     "metadata": {},
     "output_type": "display_data"
    },
    {
     "name": "stdout",
     "output_type": "stream",
     "text": [
      "epoch      trn_loss   val_loss   accuracy                 \n",
      "    0      0.012071   0.14609    0.909091  \n",
      "    1      0.012682   0.149518   0.909091                 \n",
      "    2      0.011746   0.161856   0.909091                 \n",
      "    3      0.010722   0.195552   0.909091                 \n",
      "    4      0.009187   0.339415   0.863636                  \n",
      "    5      0.008327   0.576228   0.863636                  \n",
      "    6      0.007437   0.591503   0.727273                  \n",
      "    7      0.007282   1.11577    0.636364                  \n",
      "    8      0.00668    1.830211   0.545455          \n",
      "    9      0.158858   1.4402     0.647059                 \n",
      "    10     0.212127   1.411529   0.672269                \n",
      "    11     0.227161   2.089364   0.537815                \n",
      "    12     0.215724   2.321228   0.563025                \n",
      "    13     0.208561   2.399389   0.55042                 \n",
      "    14     0.198698   1.233888   0.705882                \n",
      "    15     0.184769   1.287521   0.718487                \n",
      "    16     0.162767   1.253467   0.735294                \n",
      "    17     0.152973   1.142891   0.756303                \n",
      "    18     0.333338   0.3349     0.894495                  \n",
      "    19     0.259792   0.277117   0.902836                  \n",
      "\n",
      "CPU times: user 51.6 s, sys: 19.8 s, total: 1min 11s\n",
      "Wall time: 1min 4s\n"
     ]
    },
    {
     "data": {
      "text/plain": [
       "[array([0.27712]), 0.9028356966125259]"
      ]
     },
     "execution_count": 35,
     "metadata": {},
     "output_type": "execute_result"
    }
   ],
   "source": [
    "learn3 = ConvLearner.from_model_data(to_gpu(m), data2)\n",
    "learn3.crit = nn.CrossEntropyLoss()\n",
    "learn3.metrics = [accuracy]\n",
    "learn3.clip = 1e-1\n",
    "%time learn3.fit_opt_sched(phases_1cycle(20, 1.5, 12, 15, 0.95, 0.85), data_list = [data2,data3,data4,data5,data6])"
   ]
  },
  {
   "cell_type": "code",
   "execution_count": 37,
   "metadata": {},
   "outputs": [
    {
     "data": {
      "application/vnd.jupyter.widget-view+json": {
       "model_id": "954d7df3346044d5973016b300cd76ed",
       "version_major": 2,
       "version_minor": 0
      },
      "text/plain": [
       "HBox(children=(IntProgress(value=0, description='Epoch', max=20), HTML(value='')))"
      ]
     },
     "metadata": {},
     "output_type": "display_data"
    },
    {
     "name": "stdout",
     "output_type": "stream",
     "text": [
      "epoch      trn_loss   val_loss   accuracy                  \n",
      "    0      0.008756   0.21496    0.954545  \n",
      "    1      0.009497   0.219655   0.954545                 \n",
      "    2      0.008013   0.225424   0.954545                  \n",
      "    3      0.006806   0.223637   0.909091                  \n",
      "    4      0.005961   0.198287   0.954545                  \n",
      "    5      0.005216   0.195376   0.954545                  \n",
      "    6      0.004627   0.248606   0.909091                  \n",
      "    7      0.004142   0.434913   0.909091                  \n",
      "    8      0.003752   0.688438   0.818182          \n",
      "    9      0.093153   1.689604   0.621849                 \n",
      "    10     0.119101   3.131015   0.512605                 \n",
      "    11     0.149679   2.016418   0.642857                \n",
      "    12     0.154705   1.723721   0.592437                \n",
      "    13     0.161438   2.671733   0.579832                \n",
      "    14     0.154604   2.558146   0.596639                \n",
      "    15     0.145384   2.998436   0.546218                \n",
      "    16     0.135717   2.09438    0.621849                \n",
      "    17     0.128478   1.783089   0.647059                \n",
      "    18     0.328814   0.381475   0.882819                  \n",
      "    19     0.252714   0.255101   0.913261                  \n",
      "\n",
      "CPU times: user 48.3 s, sys: 19.2 s, total: 1min 7s\n",
      "Wall time: 1min 1s\n"
     ]
    },
    {
     "data": {
      "text/plain": [
       "[array([0.2551]), 0.9132610512237135]"
      ]
     },
     "execution_count": 37,
     "metadata": {},
     "output_type": "execute_result"
    }
   ],
   "source": [
    "learn4 = ConvLearner.from_model_data(to_gpu(m), data2)\n",
    "learn4.crit = nn.CrossEntropyLoss()\n",
    "learn4.metrics = [accuracy]\n",
    "learn4.clip = 1e-1\n",
    "%time learn4.fit_opt_sched(phases_1cycle(20, 1.5, 12, 15, 0.95, 0.85), data_list = [data2,data3,data4])"
   ]
  },
  {
   "cell_type": "code",
   "execution_count": 38,
   "metadata": {},
   "outputs": [],
   "source": [
    "def get_TTA_accuracy(learn):\n",
    "    preds, targs = learn.TTA()\n",
    "    # combining the predictions across augmented and non augmented inputs\n",
    "    preds = 0.6 * preds[0] + 0.4 * preds[1:].sum(0)\n",
    "    return accuracy_np(preds, targs)"
   ]
  },
  {
   "cell_type": "code",
   "execution_count": 39,
   "metadata": {},
   "outputs": [
    {
     "name": "stdout",
     "output_type": "stream",
     "text": [
      "                                             \r"
     ]
    },
    {
     "data": {
      "text/plain": [
       "0.9545454545454546"
      ]
     },
     "execution_count": 39,
     "metadata": {},
     "output_type": "execute_result"
    }
   ],
   "source": [
    "get_TTA_accuracy(learn)"
   ]
  },
  {
   "cell_type": "code",
   "execution_count": 40,
   "metadata": {},
   "outputs": [
    {
     "name": "stdout",
     "output_type": "stream",
     "text": [
      "                                             \r"
     ]
    },
    {
     "data": {
      "text/plain": [
       "0.9545454545454546"
      ]
     },
     "execution_count": 40,
     "metadata": {},
     "output_type": "execute_result"
    }
   ],
   "source": [
    "get_TTA_accuracy(learn2)"
   ]
  },
  {
   "cell_type": "code",
   "execution_count": 41,
   "metadata": {},
   "outputs": [
    {
     "name": "stdout",
     "output_type": "stream",
     "text": [
      "                                             \r"
     ]
    },
    {
     "data": {
      "text/plain": [
       "0.9545454545454546"
      ]
     },
     "execution_count": 41,
     "metadata": {},
     "output_type": "execute_result"
    }
   ],
   "source": [
    "get_TTA_accuracy(learn3)"
   ]
  },
  {
   "cell_type": "code",
   "execution_count": 43,
   "metadata": {},
   "outputs": [
    {
     "name": "stdout",
     "output_type": "stream",
     "text": [
      "                                             \r"
     ]
    },
    {
     "data": {
      "text/plain": [
       "0.9545454545454546"
      ]
     },
     "execution_count": 43,
     "metadata": {},
     "output_type": "execute_result"
    }
   ],
   "source": [
    "get_TTA_accuracy(learn4)"
   ]
  },
  {
   "cell_type": "code",
   "execution_count": 46,
   "metadata": {},
   "outputs": [
    {
     "data": {
      "application/vnd.jupyter.widget-view+json": {
       "model_id": "acca65d38b074d1b8ba2d8211c07d881",
       "version_major": 2,
       "version_minor": 0
      },
      "text/plain": [
       "HBox(children=(IntProgress(value=0, description='Epoch', max=20), HTML(value='')))"
      ]
     },
     "metadata": {},
     "output_type": "display_data"
    },
    {
     "name": "stdout",
     "output_type": "stream",
     "text": [
      "epoch      trn_loss   val_loss   accuracy                \n",
      "    0      0.114095   1.253506   0.681818  \n",
      "    1      0.1288     1.232286   0.681818                \n",
      "    2      0.124818   1.188657   0.681818                \n",
      "    3      0.113357   1.132311   0.681818                \n",
      "    4      0.100078   1.067754   0.681818              \n",
      "    5      0.086392   1.017213   0.681818                 \n",
      "    6      0.076283   0.981587   0.727273                 \n",
      "    7      0.067104   0.985963   0.727273                 \n",
      "    8      0.061454   1.035018   0.636364         \n",
      "    9      0.233301   0.821028   0.773109                 \n",
      "    10     0.22115    0.703577   0.802521                \n",
      "    11     0.200859   0.785548   0.785714                \n",
      "    12     0.16965    0.782593   0.802521                \n",
      "    13     0.14534    0.895026   0.768908                \n",
      "    14     0.124626   0.548713   0.831933                \n",
      "    15     0.110902   0.472831   0.836134                \n",
      "    16     0.096566   0.505455   0.836134                 \n",
      "    17     0.089885   0.478595   0.827731                 \n",
      "    18     0.165979   0.268441   0.9149                      \n",
      "    19     0.124035   0.237252   0.9239                      \n",
      "CPU times: user 2min 38s, sys: 1min 2s, total: 3min 40s\n",
      "Wall time: 3min 17s\n"
     ]
    },
    {
     "data": {
      "text/plain": [
       "[array([0.23725]), 0.9239]"
      ]
     },
     "execution_count": 46,
     "metadata": {},
     "output_type": "execute_result"
    }
   ],
   "source": [
    "learn = ConvLearner.from_model_data(to_gpu(m), data2)\n",
    "learn.crit = nn.CrossEntropyLoss()\n",
    "learn.metrics = [accuracy]\n",
    "learn.clip = 1e-1\n",
    "%time learn.fit_opt_sched(phases_1cycle(20, 1.5, 12, 15, 0.95, 0.85), data_list = [data2,data3,data])"
   ]
  },
  {
   "cell_type": "code",
   "execution_count": 48,
   "metadata": {},
   "outputs": [
    {
     "name": "stdout",
     "output_type": "stream",
     "text": [
      "                                             \r"
     ]
    },
    {
     "data": {
      "text/plain": [
       "0.9545454545454546"
      ]
     },
     "execution_count": 48,
     "metadata": {},
     "output_type": "execute_result"
    }
   ],
   "source": [
    "get_TTA_accuracy(learn)"
   ]
  },
  {
   "cell_type": "code",
   "execution_count": 49,
   "metadata": {},
   "outputs": [
    {
     "data": {
      "application/vnd.jupyter.widget-view+json": {
       "model_id": "9eb9f69028cc4cc9a3b355e656b52e84",
       "version_major": 2,
       "version_minor": 0
      },
      "text/plain": [
       "HBox(children=(IntProgress(value=0, description='Epoch', max=20), HTML(value='')))"
      ]
     },
     "metadata": {},
     "output_type": "display_data"
    },
    {
     "name": "stdout",
     "output_type": "stream",
     "text": [
      "epoch      trn_loss   val_loss   accuracy                  \n",
      "    0      0.00301    0.072421   0.954545  \n",
      "    1      0.004309   0.071899   0.954545                  \n",
      "    2      0.004292   0.069052   0.954545                  \n",
      "    3      0.003547   0.064639   0.954545                  \n",
      "    4      0.003092   0.060678   0.954545                  \n",
      "    5      0.002819   0.059256   0.954545                  \n",
      "    6      0.002501   0.058061   0.954545                 \n",
      "    7      0.002348   0.060819   0.954545                  \n",
      "    8      0.002171   0.068793   0.954545          \n",
      "    9      0.029927   0.249701   0.928571                  \n",
      "    10     0.033921   0.345849   0.886555                 \n",
      "    11     0.040334   0.304073   0.903361                 \n",
      "    12     0.043829   0.37094    0.882353                 \n",
      "    13     0.044027   0.799603   0.785714                 \n",
      "    14     0.040961   0.522748   0.861345                 \n",
      "    15     0.037586   0.39877    0.87395                  \n",
      "    16     0.034929   0.396146   0.886555                 \n",
      "    17     0.032578   0.361634   0.894958                 \n",
      "    18     0.205909   0.154359   0.950375                   \n",
      "    19     0.170254   0.13888    0.955379                  \n",
      "CPU times: user 50.3 s, sys: 20 s, total: 1min 10s\n",
      "Wall time: 1min 4s\n"
     ]
    },
    {
     "data": {
      "text/plain": [
       "[array([0.13888]), 0.9553794831012665]"
      ]
     },
     "execution_count": 49,
     "metadata": {},
     "output_type": "execute_result"
    }
   ],
   "source": [
    "learn2 = ConvLearner.from_model_data(to_gpu(m), data2)\n",
    "learn2.crit = nn.CrossEntropyLoss()\n",
    "learn2.metrics = [accuracy]\n",
    "learn2.clip = 1e-1\n",
    "%time learn2.fit_opt_sched(phases_1cycle(20, 1.5, 12, 15, 0.95, 0.85), data_list = [data2,data3,data4,data])"
   ]
  },
  {
   "cell_type": "code",
   "execution_count": 53,
   "metadata": {},
   "outputs": [
    {
     "name": "stdout",
     "output_type": "stream",
     "text": [
      "                                             \r"
     ]
    },
    {
     "data": {
      "text/plain": [
       "1.0"
      ]
     },
     "execution_count": 53,
     "metadata": {},
     "output_type": "execute_result"
    }
   ],
   "source": [
    "get_TTA_accuracy(learn2)"
   ]
  },
  {
   "cell_type": "code",
   "execution_count": 52,
   "metadata": {},
   "outputs": [
    {
     "data": {
      "application/vnd.jupyter.widget-view+json": {
       "model_id": "1967e283b2964e099d6843b3a3cfc96d",
       "version_major": 2,
       "version_minor": 0
      },
      "text/plain": [
       "HBox(children=(IntProgress(value=0, description='Epoch', max=20), HTML(value='')))"
      ]
     },
     "metadata": {},
     "output_type": "display_data"
    },
    {
     "name": "stdout",
     "output_type": "stream",
     "text": [
      "epoch      trn_loss   val_loss   accuracy                   \n",
      "    0      0.000662   0.002235   1.0       \n",
      "    1      0.001481   0.002218   1.0                       \n",
      "    2      0.001414   0.002178   1.0                       \n",
      "    3      0.001326   0.002043   1.0                       \n",
      "    4      0.001127   0.001908   1.0                       \n",
      "    5      0.001004   0.001813   1.0                     \n",
      "    6      0.000976   0.001745   1.0                        \n",
      "    7      0.000907   0.001684   1.0                        \n",
      "    8      0.000827   0.001692   1.0                \n",
      "    9      0.008388   0.208951   0.936975                  \n",
      "    10     0.013545   0.267088   0.911765                  \n",
      "    11     0.015429   0.569955   0.852941                 \n",
      "    12     0.020097   0.918275   0.785714                 \n",
      "    13     0.026946   0.670365   0.848739                 \n",
      "    14     0.026716   0.491037   0.869748                 \n",
      "    15     0.025755   0.333822   0.890756                 \n",
      "    16     0.02228    0.31418    0.890756                 \n",
      "    17     0.020962   0.297224   0.903361                 \n",
      "    18     0.198488   0.196305   0.932027                   \n",
      "    19     0.161556   0.164087   0.942452                  \n",
      "CPU times: user 49.6 s, sys: 19.3 s, total: 1min 8s\n",
      "Wall time: 1min 2s\n"
     ]
    },
    {
     "data": {
      "text/plain": [
       "[array([0.16409]), 0.9424520434688984]"
      ]
     },
     "execution_count": 52,
     "metadata": {},
     "output_type": "execute_result"
    }
   ],
   "source": [
    "learn4 = ConvLearner.from_model_data(to_gpu(m), data2)\n",
    "learn4.crit = nn.CrossEntropyLoss()\n",
    "learn4.metrics = [accuracy]\n",
    "learn4.clip = 1e-1\n",
    "%time learn4.fit_opt_sched(phases_1cycle(20, 1.5, 12, 15, 0.95, 0.85), data_list = [data2,data3,data4])"
   ]
  },
  {
   "cell_type": "code",
   "execution_count": 54,
   "metadata": {},
   "outputs": [
    {
     "name": "stdout",
     "output_type": "stream",
     "text": [
      "                                             \r"
     ]
    },
    {
     "data": {
      "text/plain": [
       "1.0"
      ]
     },
     "execution_count": 54,
     "metadata": {},
     "output_type": "execute_result"
    }
   ],
   "source": [
    "get_TTA_accuracy(learn4)"
   ]
  },
  {
   "cell_type": "code",
   "execution_count": null,
   "metadata": {},
   "outputs": [],
   "source": []
  }
 ],
 "metadata": {
  "kernelspec": {
   "display_name": "Python 3",
   "language": "python",
   "name": "python3"
  },
  "language_info": {
   "codemirror_mode": {
    "name": "ipython",
    "version": 3
   },
   "file_extension": ".py",
   "mimetype": "text/x-python",
   "name": "python",
   "nbconvert_exporter": "python",
   "pygments_lexer": "ipython3",
   "version": "3.6.5"
  },
  "toc": {
   "colors": {
    "hover_highlight": "#DAA520",
    "navigate_num": "#000000",
    "navigate_text": "#333333",
    "running_highlight": "#FF0000",
    "selected_highlight": "#FFD700",
    "sidebar_border": "#EEEEEE",
    "wrapper_background": "#FFFFFF"
   },
   "moveMenuLeft": true,
   "nav_menu": {
    "height": "266px",
    "width": "252px"
   },
   "navigate_menu": true,
   "number_sections": true,
   "sideBar": true,
   "threshold": 4,
   "toc_cell": false,
   "toc_section_display": "block",
   "toc_window_display": false,
   "widenNotebook": false
  }
 },
 "nbformat": 4,
 "nbformat_minor": 2
}
